{
  "nbformat": 4,
  "nbformat_minor": 0,
  "metadata": {
    "colab": {
      "name": "ITBI",
      "provenance": [],
      "authorship_tag": "ABX9TyOCWpvqP2i9yidybCLxev2H",
      "include_colab_link": true
    },
    "kernelspec": {
      "name": "python3",
      "display_name": "Python 3"
    },
    "accelerator": "TPU"
  },
  "cells": [
    {
      "cell_type": "markdown",
      "metadata": {
        "id": "view-in-github",
        "colab_type": "text"
      },
      "source": [
        "<a href=\"https://colab.research.google.com/github/vitorefazevedo/VAzevedo-sharing/blob/master/ITBI.ipynb\" target=\"_parent\"><img src=\"https://colab.research.google.com/assets/colab-badge.svg\" alt=\"Open In Colab\"/></a>"
      ]
    },
    {
      "cell_type": "markdown",
      "metadata": {
        "id": "VzhCe1sc7_RI",
        "colab_type": "text"
      },
      "source": [
        "# Algumas operações com os dados de ITBI realizadas em python:\n",
        "\n"
      ]
    },
    {
      "cell_type": "code",
      "metadata": {
        "id": "Qo1RyxndUjJb",
        "colab_type": "code",
        "colab": {}
      },
      "source": [
        "# Importando bibliotecas básicas de manipulação de dados e álgebra linear\n",
        "\n",
        "import pandas as pd\n",
        "import numpy as np"
      ],
      "execution_count": 0,
      "outputs": []
    },
    {
      "cell_type": "markdown",
      "metadata": {
        "id": "QKpK_75B4CtU",
        "colab_type": "text"
      },
      "source": [
        "Abrindo e lendo os dados brutos da planilha de ITBI:"
      ]
    },
    {
      "cell_type": "code",
      "metadata": {
        "id": "I4qAHqw7UqUi",
        "colab_type": "code",
        "outputId": "0f0e68fe-3ec1-4db3-98ac-bccbcab1f7d0",
        "colab": {
          "base_uri": "https://localhost:8080/",
          "height": 197
        }
      },
      "source": [
        "from google.colab import files\n",
        "uploaded = files\n",
        "import io\n",
        "\n",
        "df_com_duplicatas = pd.read_excel(io.BytesIO(uploaded['ITBIs_GP_2010_a_03_2020.xlsx']))"
      ],
      "execution_count": 0,
      "outputs": [
        {
          "output_type": "error",
          "ename": "TypeError",
          "evalue": "ignored",
          "traceback": [
            "\u001b[0;31m---------------------------------------------------------------------------\u001b[0m",
            "\u001b[0;31mTypeError\u001b[0m                                 Traceback (most recent call last)",
            "\u001b[0;32m<ipython-input-7-f16a1ec54f41>\u001b[0m in \u001b[0;36m<module>\u001b[0;34m()\u001b[0m\n\u001b[1;32m      3\u001b[0m \u001b[0;32mimport\u001b[0m \u001b[0mio\u001b[0m\u001b[0;34m\u001b[0m\u001b[0;34m\u001b[0m\u001b[0m\n\u001b[1;32m      4\u001b[0m \u001b[0;34m\u001b[0m\u001b[0m\n\u001b[0;32m----> 5\u001b[0;31m \u001b[0mdf_com_duplicatas\u001b[0m \u001b[0;34m=\u001b[0m \u001b[0mpd\u001b[0m\u001b[0;34m.\u001b[0m\u001b[0mread_excel\u001b[0m\u001b[0;34m(\u001b[0m\u001b[0mio\u001b[0m\u001b[0;34m.\u001b[0m\u001b[0mBytesIO\u001b[0m\u001b[0;34m(\u001b[0m\u001b[0muploaded\u001b[0m\u001b[0;34m[\u001b[0m\u001b[0;34m'ITBIs_GP_2010_a_03_2020.xlsx'\u001b[0m\u001b[0;34m]\u001b[0m\u001b[0;34m)\u001b[0m\u001b[0;34m)\u001b[0m\u001b[0;34m\u001b[0m\u001b[0;34m\u001b[0m\u001b[0m\n\u001b[0m",
            "\u001b[0;31mTypeError\u001b[0m: 'module' object is not subscriptable"
          ]
        }
      ]
    },
    {
      "cell_type": "code",
      "metadata": {
        "id": "cbw2Dbiekl6v",
        "colab_type": "code",
        "outputId": "c267d68b-ebdf-48ef-eaeb-f454ac79954e",
        "colab": {
          "base_uri": "https://localhost:8080/",
          "height": 417
        }
      },
      "source": [
        "# Vizualização de alguns destes dados\n",
        "df_com_duplicatas.head(3)"
      ],
      "execution_count": 0,
      "outputs": [
        {
          "output_type": "execute_result",
          "data": {
            "text/html": [
              "<div>\n",
              "<style scoped>\n",
              "    .dataframe tbody tr th:only-of-type {\n",
              "        vertical-align: middle;\n",
              "    }\n",
              "\n",
              "    .dataframe tbody tr th {\n",
              "        vertical-align: top;\n",
              "    }\n",
              "\n",
              "    .dataframe thead th {\n",
              "        text-align: right;\n",
              "    }\n",
              "</style>\n",
              "<table border=\"1\" class=\"dataframe\">\n",
              "  <thead>\n",
              "    <tr style=\"text-align: right;\">\n",
              "      <th></th>\n",
              "      <th>Indice Cadastral</th>\n",
              "      <th>Codigo Lancamento</th>\n",
              "      <th>Lancamento Estado</th>\n",
              "      <th>Descrição Natureza Transmissao Itbi</th>\n",
              "      <th>Cpf Adquirente</th>\n",
              "      <th>Endereco</th>\n",
              "      <th>Tipo Construtivo Preponderante</th>\n",
              "      <th>Tipo Construtivo Agregado</th>\n",
              "      <th>Tipo Classificacao (Unidade)</th>\n",
              "      <th>Bairro</th>\n",
              "      <th>Zona Homogenea ITBI</th>\n",
              "      <th>Padrao Acabamento</th>\n",
              "      <th>Ano Construcao (Unidade)</th>\n",
              "      <th>Situacao Credito</th>\n",
              "      <th>Area Terreno Total</th>\n",
              "      <th>Valor Venal Terreno Adquirido</th>\n",
              "      <th>Percentual Terreno Adquirido</th>\n",
              "      <th>ÁREA CONSTRUIDA</th>\n",
              "      <th>Percentual Construcao Adquirida</th>\n",
              "      <th>Valor M2 Construcao(Unidade)</th>\n",
              "      <th>Ano Transacao</th>\n",
              "      <th>Data Lancamento</th>\n",
              "      <th>Valor Base Calculo</th>\n",
              "      <th>Valor Declarado</th>\n",
              "      <th>Valor Calculado Pbh</th>\n",
              "      <th>F C</th>\n",
              "    </tr>\n",
              "  </thead>\n",
              "  <tbody>\n",
              "    <tr>\n",
              "      <th>0</th>\n",
              "      <td>001001 001Y0017</td>\n",
              "      <td>13003120026153</td>\n",
              "      <td>QUITADO</td>\n",
              "      <td>INTEGRALIZAÇÃO DE CAPITAL</td>\n",
              "      <td>14896366000103</td>\n",
              "      <td>RUA DOS CARIJOS 13 - CENTRO - 30120-060 - BELO...</td>\n",
              "      <td>GP</td>\n",
              "      <td>GP</td>\n",
              "      <td>GP2</td>\n",
              "      <td>CENTRO</td>\n",
              "      <td>CS115</td>\n",
              "      <td>P1</td>\n",
              "      <td>1994</td>\n",
              "      <td>QUITADO</td>\n",
              "      <td>1750.0</td>\n",
              "      <td>7875000.0</td>\n",
              "      <td>1.0</td>\n",
              "      <td>875.00</td>\n",
              "      <td>1.0</td>\n",
              "      <td>250</td>\n",
              "      <td>2012</td>\n",
              "      <td>2012-09-12</td>\n",
              "      <td>8054375.00</td>\n",
              "      <td>2428020.00</td>\n",
              "      <td>8054375.00</td>\n",
              "      <td>1,000000</td>\n",
              "    </tr>\n",
              "    <tr>\n",
              "      <th>1</th>\n",
              "      <td>001004 007B001X</td>\n",
              "      <td>13003120035198</td>\n",
              "      <td>QUITADO</td>\n",
              "      <td>INTEGRALIZAÇÃO DE CAPITAL</td>\n",
              "      <td>61604112000146</td>\n",
              "      <td>RUA DOS TUPINAMBAS 115 - CENTRO - 30120-070 - ...</td>\n",
              "      <td>GP</td>\n",
              "      <td>LJ,GP</td>\n",
              "      <td>GP2</td>\n",
              "      <td>CENTRO</td>\n",
              "      <td>CS115</td>\n",
              "      <td>P2</td>\n",
              "      <td>2003</td>\n",
              "      <td>QUITADO</td>\n",
              "      <td>1054.0</td>\n",
              "      <td>4743000.0</td>\n",
              "      <td>1.0</td>\n",
              "      <td>422.62</td>\n",
              "      <td>1.0</td>\n",
              "      <td>360</td>\n",
              "      <td>2012</td>\n",
              "      <td>2012-12-06</td>\n",
              "      <td>5062271.76</td>\n",
              "      <td>1007256.87</td>\n",
              "      <td>5062271.76</td>\n",
              "      <td>1,000000</td>\n",
              "    </tr>\n",
              "    <tr>\n",
              "      <th>2</th>\n",
              "      <td>001004 007B001X</td>\n",
              "      <td>13003120035198</td>\n",
              "      <td>QUITADO</td>\n",
              "      <td>INTEGRALIZAÇÃO DE CAPITAL</td>\n",
              "      <td>61604112000146</td>\n",
              "      <td>RUA DOS TUPINAMBAS 115 - CENTRO - 30120-070 - ...</td>\n",
              "      <td>GP</td>\n",
              "      <td>LJ,GP</td>\n",
              "      <td>LJ3</td>\n",
              "      <td>CENTRO</td>\n",
              "      <td>CS115</td>\n",
              "      <td>P2</td>\n",
              "      <td>2003</td>\n",
              "      <td>QUITADO</td>\n",
              "      <td>1054.0</td>\n",
              "      <td>4743000.0</td>\n",
              "      <td>1.0</td>\n",
              "      <td>422.62</td>\n",
              "      <td>1.0</td>\n",
              "      <td>1100</td>\n",
              "      <td>2012</td>\n",
              "      <td>2012-12-06</td>\n",
              "      <td>5062271.76</td>\n",
              "      <td>1007256.87</td>\n",
              "      <td>5062271.76</td>\n",
              "      <td>1,000000</td>\n",
              "    </tr>\n",
              "  </tbody>\n",
              "</table>\n",
              "</div>"
            ],
            "text/plain": [
              "  Indice Cadastral  Codigo Lancamento  ... Valor Calculado Pbh       F C \n",
              "0  001001 001Y0017     13003120026153  ...          8054375.00   1,000000\n",
              "1  001004 007B001X     13003120035198  ...          5062271.76   1,000000\n",
              "2  001004 007B001X     13003120035198  ...          5062271.76   1,000000\n",
              "\n",
              "[3 rows x 26 columns]"
            ]
          },
          "metadata": {
            "tags": []
          },
          "execution_count": 8
        }
      ]
    },
    {
      "cell_type": "code",
      "metadata": {
        "id": "dgp6HKEs3OHp",
        "colab_type": "code",
        "outputId": "013040dc-b509-4738-894e-4183b48a9d6d",
        "colab": {
          "base_uri": "https://localhost:8080/",
          "height": 34
        }
      },
      "source": [
        "df_com_duplicatas.shape"
      ],
      "execution_count": 0,
      "outputs": [
        {
          "output_type": "execute_result",
          "data": {
            "text/plain": [
              "(4868, 26)"
            ]
          },
          "metadata": {
            "tags": []
          },
          "execution_count": 9
        }
      ]
    },
    {
      "cell_type": "code",
      "metadata": {
        "id": "3Y3OmgkiXJ1Q",
        "colab_type": "code",
        "cellView": "form",
        "outputId": "ec4bff77-0bf9-4421-bfbe-3c7a3d0e3180",
        "colab": {
          "base_uri": "https://localhost:8080/",
          "height": 417
        }
      },
      "source": [
        "#@title Filtrando dados não duplicados e os salvando em um novo DataFrame:\n",
        "\n",
        "df = df_com_duplicatas.loc[np.where(df_com_duplicatas['Tipo Construtivo Preponderante']\n",
        "                                    ==df_com_duplicatas[\"Tipo Classificacao (Unidade)\"]\n",
        "                                    .str.slice(0, 2), True, False)]\n",
        "\n",
        "df.head(3)"
      ],
      "execution_count": 0,
      "outputs": [
        {
          "output_type": "execute_result",
          "data": {
            "text/html": [
              "<div>\n",
              "<style scoped>\n",
              "    .dataframe tbody tr th:only-of-type {\n",
              "        vertical-align: middle;\n",
              "    }\n",
              "\n",
              "    .dataframe tbody tr th {\n",
              "        vertical-align: top;\n",
              "    }\n",
              "\n",
              "    .dataframe thead th {\n",
              "        text-align: right;\n",
              "    }\n",
              "</style>\n",
              "<table border=\"1\" class=\"dataframe\">\n",
              "  <thead>\n",
              "    <tr style=\"text-align: right;\">\n",
              "      <th></th>\n",
              "      <th>Indice Cadastral</th>\n",
              "      <th>Codigo Lancamento</th>\n",
              "      <th>Lancamento Estado</th>\n",
              "      <th>Descrição Natureza Transmissao Itbi</th>\n",
              "      <th>Cpf Adquirente</th>\n",
              "      <th>Endereco</th>\n",
              "      <th>Tipo Construtivo Preponderante</th>\n",
              "      <th>Tipo Construtivo Agregado</th>\n",
              "      <th>Tipo Classificacao (Unidade)</th>\n",
              "      <th>Bairro</th>\n",
              "      <th>Zona Homogenea ITBI</th>\n",
              "      <th>Padrao Acabamento</th>\n",
              "      <th>Ano Construcao (Unidade)</th>\n",
              "      <th>Situacao Credito</th>\n",
              "      <th>Area Terreno Total</th>\n",
              "      <th>Valor Venal Terreno Adquirido</th>\n",
              "      <th>Percentual Terreno Adquirido</th>\n",
              "      <th>ÁREA CONSTRUIDA</th>\n",
              "      <th>Percentual Construcao Adquirida</th>\n",
              "      <th>Valor M2 Construcao(Unidade)</th>\n",
              "      <th>Ano Transacao</th>\n",
              "      <th>Data Lancamento</th>\n",
              "      <th>Valor Base Calculo</th>\n",
              "      <th>Valor Declarado</th>\n",
              "      <th>Valor Calculado Pbh</th>\n",
              "      <th>F C</th>\n",
              "    </tr>\n",
              "  </thead>\n",
              "  <tbody>\n",
              "    <tr>\n",
              "      <th>0</th>\n",
              "      <td>001001 001Y0017</td>\n",
              "      <td>13003120026153</td>\n",
              "      <td>QUITADO</td>\n",
              "      <td>INTEGRALIZAÇÃO DE CAPITAL</td>\n",
              "      <td>14896366000103</td>\n",
              "      <td>RUA DOS CARIJOS 13 - CENTRO - 30120-060 - BELO...</td>\n",
              "      <td>GP</td>\n",
              "      <td>GP</td>\n",
              "      <td>GP2</td>\n",
              "      <td>CENTRO</td>\n",
              "      <td>CS115</td>\n",
              "      <td>P1</td>\n",
              "      <td>1994</td>\n",
              "      <td>QUITADO</td>\n",
              "      <td>1750.0</td>\n",
              "      <td>7875000.0</td>\n",
              "      <td>1.0</td>\n",
              "      <td>875.00</td>\n",
              "      <td>1.0</td>\n",
              "      <td>250</td>\n",
              "      <td>2012</td>\n",
              "      <td>2012-09-12</td>\n",
              "      <td>8054375.00</td>\n",
              "      <td>2428020.00</td>\n",
              "      <td>8054375.00</td>\n",
              "      <td>1,000000</td>\n",
              "    </tr>\n",
              "    <tr>\n",
              "      <th>1</th>\n",
              "      <td>001004 007B001X</td>\n",
              "      <td>13003120035198</td>\n",
              "      <td>QUITADO</td>\n",
              "      <td>INTEGRALIZAÇÃO DE CAPITAL</td>\n",
              "      <td>61604112000146</td>\n",
              "      <td>RUA DOS TUPINAMBAS 115 - CENTRO - 30120-070 - ...</td>\n",
              "      <td>GP</td>\n",
              "      <td>LJ,GP</td>\n",
              "      <td>GP2</td>\n",
              "      <td>CENTRO</td>\n",
              "      <td>CS115</td>\n",
              "      <td>P2</td>\n",
              "      <td>2003</td>\n",
              "      <td>QUITADO</td>\n",
              "      <td>1054.0</td>\n",
              "      <td>4743000.0</td>\n",
              "      <td>1.0</td>\n",
              "      <td>422.62</td>\n",
              "      <td>1.0</td>\n",
              "      <td>360</td>\n",
              "      <td>2012</td>\n",
              "      <td>2012-12-06</td>\n",
              "      <td>5062271.76</td>\n",
              "      <td>1007256.87</td>\n",
              "      <td>5062271.76</td>\n",
              "      <td>1,000000</td>\n",
              "    </tr>\n",
              "    <tr>\n",
              "      <th>3</th>\n",
              "      <td>001004 007B001X</td>\n",
              "      <td>13003120035202</td>\n",
              "      <td>QUITADO</td>\n",
              "      <td>INTEGRALIZAÇÃO DE CAPITAL</td>\n",
              "      <td>7319798000188</td>\n",
              "      <td>RUA DOS TUPINAMBAS 115 - CENTRO - 30120-070 - ...</td>\n",
              "      <td>GP</td>\n",
              "      <td>LJ,GP</td>\n",
              "      <td>GP2</td>\n",
              "      <td>CENTRO</td>\n",
              "      <td>CS115</td>\n",
              "      <td>P2</td>\n",
              "      <td>2003</td>\n",
              "      <td>QUITADO</td>\n",
              "      <td>1054.0</td>\n",
              "      <td>4743000.0</td>\n",
              "      <td>1.0</td>\n",
              "      <td>422.62</td>\n",
              "      <td>1.0</td>\n",
              "      <td>360</td>\n",
              "      <td>2012</td>\n",
              "      <td>2012-12-06</td>\n",
              "      <td>5062271.76</td>\n",
              "      <td>1021729.42</td>\n",
              "      <td>5062271.76</td>\n",
              "      <td>1,000000</td>\n",
              "    </tr>\n",
              "  </tbody>\n",
              "</table>\n",
              "</div>"
            ],
            "text/plain": [
              "  Indice Cadastral  Codigo Lancamento  ... Valor Calculado Pbh       F C \n",
              "0  001001 001Y0017     13003120026153  ...          8054375.00   1,000000\n",
              "1  001004 007B001X     13003120035198  ...          5062271.76   1,000000\n",
              "3  001004 007B001X     13003120035202  ...          5062271.76   1,000000\n",
              "\n",
              "[3 rows x 26 columns]"
            ]
          },
          "metadata": {
            "tags": []
          },
          "execution_count": 10
        }
      ]
    },
    {
      "cell_type": "code",
      "metadata": {
        "id": "8ZwhE30mwe_7",
        "colab_type": "code",
        "cellView": "form",
        "outputId": "219a1aea-0f95-4803-a29d-697e0a24e325",
        "colab": {
          "base_uri": "https://localhost:8080/",
          "height": 221
        }
      },
      "source": [
        "#@title Número de transações por ano:\n",
        "df['Ano Transacao'].value_counts()"
      ],
      "execution_count": 0,
      "outputs": [
        {
          "output_type": "execute_result",
          "data": {
            "text/plain": [
              "2011    477\n",
              "2012    469\n",
              "2010    392\n",
              "2019    375\n",
              "2013    351\n",
              "2017    326\n",
              "2018    326\n",
              "2015    322\n",
              "2014    309\n",
              "2016    280\n",
              "2020     90\n",
              "Name: Ano Transacao, dtype: int64"
            ]
          },
          "metadata": {
            "tags": []
          },
          "execution_count": 11
        }
      ]
    },
    {
      "cell_type": "code",
      "metadata": {
        "id": "p4-BxvB5lxbN",
        "colab_type": "code",
        "cellView": "both",
        "outputId": "787fe91b-1d75-4bc0-a3c6-4e740f6042e2",
        "colab": {
          "base_uri": "https://localhost:8080/",
          "height": 221
        }
      },
      "source": [
        "#@title Transações por Bairros:\n",
        "df['Bairro'].value_counts()"
      ],
      "execution_count": 0,
      "outputs": [
        {
          "output_type": "execute_result",
          "data": {
            "text/plain": [
              "SAO FRANCISCO      147\n",
              "CARLOS PRATES      110\n",
              "CENTRO             103\n",
              "SANTA EFIGENIA      93\n",
              "PADRE EUSTAQUIO     84\n",
              "                  ... \n",
              "MINAS BRASIL         1\n",
              "CENACULO             1\n",
              "LAGOINHA LEBLON      1\n",
              "SAO DAMIAO           1\n",
              "JOAO PAULO II        1\n",
              "Name: Bairro, Length: 241, dtype: int64"
            ]
          },
          "metadata": {
            "tags": []
          },
          "execution_count": 12
        }
      ]
    },
    {
      "cell_type": "code",
      "metadata": {
        "id": "8QOwSz624lRK",
        "colab_type": "code",
        "colab": {}
      },
      "source": [
        "df.to_excel(\"ITBIs_GP_2010_a_03_2020_sem_duplicatas.xlsx\")"
      ],
      "execution_count": 0,
      "outputs": []
    },
    {
      "cell_type": "code",
      "metadata": {
        "id": "tjeQDl4_D4Qg",
        "colab_type": "code",
        "colab": {}
      },
      "source": [
        "df.to_excel(r'E:\\Prog\\Dados\\Prefeitura\\ITBIs_GP_2010_a_03_2020_sem_duplicatas.xlsx', index = False)"
      ],
      "execution_count": 0,
      "outputs": []
    },
    {
      "cell_type": "code",
      "metadata": {
        "id": "hThxrvMtFzd2",
        "colab_type": "code",
        "colab": {}
      },
      "source": [
        "files.download(\"ITBIs_GP_2010_a_03_2020_sem_duplicatas.xlsx\")"
      ],
      "execution_count": 0,
      "outputs": []
    },
    {
      "cell_type": "code",
      "metadata": {
        "id": "lSNli4NwGu1P",
        "colab_type": "code",
        "colab": {}
      },
      "source": [
        ""
      ],
      "execution_count": 0,
      "outputs": []
    }
  ]
}