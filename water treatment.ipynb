{
 "cells": [
  {
   "cell_type": "markdown",
   "metadata": {},
   "source": [
    "# Tratamento de água"
   ]
  },
  {
   "cell_type": "markdown",
   "metadata": {},
   "source": [
    "#### Importando bibliotecas, conjunto de dados e informações"
   ]
  },
  {
   "cell_type": "code",
   "execution_count": 1,
   "metadata": {},
   "outputs": [],
   "source": [
    "import math\n",
    "import pandas as pd\n",
    "import numpy as np\n",
    "import seaborn as sns\n",
    "import matplotlib.pyplot as plt\n",
    "%matplotlib inline"
   ]
  },
  {
   "cell_type": "code",
   "execution_count": 2,
   "metadata": {},
   "outputs": [],
   "source": [
    "import warnings\n",
    "warnings.filterwarnings(\"ignore\")"
   ]
  },
  {
   "cell_type": "code",
   "execution_count": 3,
   "metadata": {},
   "outputs": [],
   "source": [
    "df = pd.read_csv(r'C:\\Users\\Pichau\\Desktop\\Jupyter programs\\water treatment plant\\water-treatment.data.csv',names=range(0,39))\n",
    "\n",
    "## Os títulos dos atributos foram deixados como números para deixar a vizualização mais compacta. \n",
    "## No arquivo de informações abaixo há uma legenda sobre o significado de cada um."
   ]
  },
  {
   "cell_type": "code",
   "execution_count": 26,
   "metadata": {},
   "outputs": [
    {
     "data": {
      "text/html": [
       "<div>\n",
       "<style scoped>\n",
       "    .dataframe tbody tr th:only-of-type {\n",
       "        vertical-align: middle;\n",
       "    }\n",
       "\n",
       "    .dataframe tbody tr th {\n",
       "        vertical-align: top;\n",
       "    }\n",
       "\n",
       "    .dataframe thead th {\n",
       "        text-align: right;\n",
       "    }\n",
       "</style>\n",
       "<table border=\"1\" class=\"dataframe\">\n",
       "  <thead>\n",
       "    <tr style=\"text-align: right;\">\n",
       "      <th></th>\n",
       "      <th>1</th>\n",
       "      <th>2</th>\n",
       "      <th>3</th>\n",
       "      <th>4</th>\n",
       "      <th>5</th>\n",
       "      <th>6</th>\n",
       "      <th>7</th>\n",
       "      <th>8</th>\n",
       "      <th>9</th>\n",
       "      <th>10</th>\n",
       "      <th>...</th>\n",
       "      <th>30</th>\n",
       "      <th>31</th>\n",
       "      <th>32</th>\n",
       "      <th>33</th>\n",
       "      <th>34</th>\n",
       "      <th>35</th>\n",
       "      <th>36</th>\n",
       "      <th>37</th>\n",
       "      <th>38</th>\n",
       "      <th>target</th>\n",
       "    </tr>\n",
       "  </thead>\n",
       "  <tbody>\n",
       "    <tr>\n",
       "      <th>0</th>\n",
       "      <td>44101.0</td>\n",
       "      <td>1.5</td>\n",
       "      <td>7.8</td>\n",
       "      <td>NaN</td>\n",
       "      <td>407.0</td>\n",
       "      <td>166.0</td>\n",
       "      <td>66.3</td>\n",
       "      <td>4.5</td>\n",
       "      <td>2110</td>\n",
       "      <td>7.9</td>\n",
       "      <td>...</td>\n",
       "      <td>NaN</td>\n",
       "      <td>58.8</td>\n",
       "      <td>95.5</td>\n",
       "      <td>NaN</td>\n",
       "      <td>70.0</td>\n",
       "      <td>NaN</td>\n",
       "      <td>79.4</td>\n",
       "      <td>87.3</td>\n",
       "      <td>99.6</td>\n",
       "      <td>1</td>\n",
       "    </tr>\n",
       "    <tr>\n",
       "      <th>1</th>\n",
       "      <td>39024.0</td>\n",
       "      <td>3.0</td>\n",
       "      <td>7.7</td>\n",
       "      <td>NaN</td>\n",
       "      <td>443.0</td>\n",
       "      <td>214.0</td>\n",
       "      <td>69.2</td>\n",
       "      <td>6.5</td>\n",
       "      <td>2660</td>\n",
       "      <td>7.7</td>\n",
       "      <td>...</td>\n",
       "      <td>NaN</td>\n",
       "      <td>60.7</td>\n",
       "      <td>94.8</td>\n",
       "      <td>NaN</td>\n",
       "      <td>80.8</td>\n",
       "      <td>NaN</td>\n",
       "      <td>79.5</td>\n",
       "      <td>92.1</td>\n",
       "      <td>100.0</td>\n",
       "      <td>1</td>\n",
       "    </tr>\n",
       "    <tr>\n",
       "      <th>2</th>\n",
       "      <td>32229.0</td>\n",
       "      <td>5.0</td>\n",
       "      <td>7.6</td>\n",
       "      <td>NaN</td>\n",
       "      <td>528.0</td>\n",
       "      <td>186.0</td>\n",
       "      <td>69.9</td>\n",
       "      <td>3.4</td>\n",
       "      <td>1666</td>\n",
       "      <td>7.7</td>\n",
       "      <td>...</td>\n",
       "      <td>NaN</td>\n",
       "      <td>58.2</td>\n",
       "      <td>95.6</td>\n",
       "      <td>NaN</td>\n",
       "      <td>52.9</td>\n",
       "      <td>NaN</td>\n",
       "      <td>75.8</td>\n",
       "      <td>88.7</td>\n",
       "      <td>98.5</td>\n",
       "      <td>1</td>\n",
       "    </tr>\n",
       "    <tr>\n",
       "      <th>3</th>\n",
       "      <td>35023.0</td>\n",
       "      <td>3.5</td>\n",
       "      <td>7.9</td>\n",
       "      <td>205.0</td>\n",
       "      <td>588.0</td>\n",
       "      <td>192.0</td>\n",
       "      <td>65.6</td>\n",
       "      <td>4.5</td>\n",
       "      <td>2430</td>\n",
       "      <td>7.8</td>\n",
       "      <td>...</td>\n",
       "      <td>33.1</td>\n",
       "      <td>64.2</td>\n",
       "      <td>95.3</td>\n",
       "      <td>87.3</td>\n",
       "      <td>72.3</td>\n",
       "      <td>90.2</td>\n",
       "      <td>82.3</td>\n",
       "      <td>89.6</td>\n",
       "      <td>100.0</td>\n",
       "      <td>1</td>\n",
       "    </tr>\n",
       "    <tr>\n",
       "      <th>4</th>\n",
       "      <td>36924.0</td>\n",
       "      <td>1.5</td>\n",
       "      <td>8.0</td>\n",
       "      <td>242.0</td>\n",
       "      <td>496.0</td>\n",
       "      <td>176.0</td>\n",
       "      <td>64.8</td>\n",
       "      <td>4.0</td>\n",
       "      <td>2110</td>\n",
       "      <td>7.9</td>\n",
       "      <td>...</td>\n",
       "      <td>NaN</td>\n",
       "      <td>62.7</td>\n",
       "      <td>95.6</td>\n",
       "      <td>NaN</td>\n",
       "      <td>71.0</td>\n",
       "      <td>92.1</td>\n",
       "      <td>78.2</td>\n",
       "      <td>87.5</td>\n",
       "      <td>99.5</td>\n",
       "      <td>1</td>\n",
       "    </tr>\n",
       "  </tbody>\n",
       "</table>\n",
       "<p>5 rows × 39 columns</p>\n",
       "</div>"
      ],
      "text/plain": [
       "         1    2    3      4      5      6     7    8     9   10   ...      30  \\\n",
       "0  44101.0  1.5  7.8    NaN  407.0  166.0  66.3  4.5  2110  7.9   ...     NaN   \n",
       "1  39024.0  3.0  7.7    NaN  443.0  214.0  69.2  6.5  2660  7.7   ...     NaN   \n",
       "2  32229.0  5.0  7.6    NaN  528.0  186.0  69.9  3.4  1666  7.7   ...     NaN   \n",
       "3  35023.0  3.5  7.9  205.0  588.0  192.0  65.6  4.5  2430  7.8   ...    33.1   \n",
       "4  36924.0  1.5  8.0  242.0  496.0  176.0  64.8  4.0  2110  7.9   ...     NaN   \n",
       "\n",
       "     31    32    33    34    35    36    37     38  target  \n",
       "0  58.8  95.5   NaN  70.0   NaN  79.4  87.3   99.6       1  \n",
       "1  60.7  94.8   NaN  80.8   NaN  79.5  92.1  100.0       1  \n",
       "2  58.2  95.6   NaN  52.9   NaN  75.8  88.7   98.5       1  \n",
       "3  64.2  95.3  87.3  72.3  90.2  82.3  89.6  100.0       1  \n",
       "4  62.7  95.6   NaN  71.0  92.1  78.2  87.5   99.5       1  \n",
       "\n",
       "[5 rows x 39 columns]"
      ]
     },
     "execution_count": 26,
     "metadata": {},
     "output_type": "execute_result"
    }
   ],
   "source": [
    "df.head()"
   ]
  },
  {
   "cell_type": "code",
   "execution_count": 25,
   "metadata": {},
   "outputs": [],
   "source": [
    "infos = open(r'C:\\Users\\Pichau\\Desktop\\Jupyter programs\\water treatment plant\\water-treatment.names.txt', 'r').read()"
   ]
  },
  {
   "cell_type": "markdown",
   "metadata": {},
   "source": [
    "#### OBS:\n",
    "O arquivo de informações descreve 38 sensores (atributos) e 13 classes de funcionamento da ETE (possíveis targets). Para delimitar melhor o escopo e descomplicar o problema, irei excluir todos os eventos raros e criar um vetor de rótulos apenas com eventos recorrentes."
   ]
  },
  {
   "cell_type": "code",
   "execution_count": 6,
   "metadata": {},
   "outputs": [],
   "source": [
    "classes = infos.replace('\\n','').replace(' ','').replace('.','').split('--')[8:]"
   ]
  },
  {
   "cell_type": "markdown",
   "metadata": {},
   "source": [
    "#### Classe 1 - \"normal situation\" (275 dias)"
   ]
  },
  {
   "cell_type": "code",
   "execution_count": 7,
   "metadata": {},
   "outputs": [],
   "source": [
    "temp = classes[0].replace('Class1:Normalsituation-Objects(275days):','')\n",
    "for i in df[0]:\n",
    "    temp = temp.replace(i, str(df[0][df[0] == i].index[0]))\n",
    "\n",
    "temp = temp.split(',')\n",
    "\n",
    "c1 = []\n",
    "for i in range(len(temp)):\n",
    "    c1.append((temp[i].split('to')))\n",
    "\n",
    "c1 = [list(map(int, x)) for x in c1]\n",
    "\n",
    "class1 = pd.DataFrame()\n",
    "\n",
    "for i in range(len(c1)):\n",
    "    class1 = pd.concat([class1, df[c1[i][0]:c1[i][-1]+1]])\n",
    "    \n",
    "class1['target'] = [1]*len(class1)"
   ]
  },
  {
   "cell_type": "markdown",
   "metadata": {},
   "source": [
    "#### Classe 11 - \"normal situation\" (53 dias)"
   ]
  },
  {
   "cell_type": "code",
   "execution_count": 8,
   "metadata": {},
   "outputs": [],
   "source": [
    "temp = classes[10].replace('Class11:Normalsituation-Objects(53days):','').replace('90D-21','90,D-21')\n",
    "for i in df[0]:\n",
    "    temp = temp.replace(i, str(df[0][df[0] == i].index[0]))\n",
    "\n",
    "temp = temp.split(',')\n",
    "\n",
    "c11 = []\n",
    "for i in range(len(temp)):\n",
    "    c11.append((temp[i].split('to')))\n",
    "\n",
    "c11 = [list(map(int, x)) for x in c11]\n",
    "\n",
    "class11 = pd.DataFrame()\n",
    "\n",
    "for i in range(len(c11)):\n",
    "    class11 = pd.concat([class11, df[c11[i][0]:c11[i][-1]+1]])\n",
    "    \n",
    "class11['target'] = [1]*len(class11)"
   ]
  },
  {
   "cell_type": "markdown",
   "metadata": {},
   "source": [
    "#### Classe 5 - \"normal situation com performance acima da média\" (116 dias)"
   ]
  },
  {
   "cell_type": "code",
   "execution_count": 9,
   "metadata": {},
   "outputs": [],
   "source": [
    "temp = classes[4].replace('Class5:Normalsituationwithperformanceoverthemean-Objects(116days):','')\n",
    "for i in df[0]:\n",
    "    temp = temp.replace(i, str(df[0][df[0] == i].index[0]))\n",
    "\n",
    "temp = temp.split(',')\n",
    "\n",
    "c5 = []\n",
    "for i in range(len(temp)):\n",
    "    c5.append((temp[i].split('to')))\n",
    "\n",
    "c5 = [list(map(int, x)) for x in c5]\n",
    "\n",
    "class5 = pd.DataFrame()\n",
    "\n",
    "for i in range(len(c5)):\n",
    "    class5 = pd.concat([class5, df[c5[i][0]:c5[i][-1]+1]])\n",
    "    \n",
    "class5['target'] = [5]*len(class5)"
   ]
  },
  {
   "cell_type": "markdown",
   "metadata": {},
   "source": [
    "#### Classe 9 - \"normal situation com baixo influente\" (69 dias)"
   ]
  },
  {
   "cell_type": "code",
   "execution_count": 10,
   "metadata": {},
   "outputs": [],
   "source": [
    "temp = classes[8].replace('Class9:Normalsituationwithlowinfluent-Objects(69days):','').replace('D-4/8/91D-9/8/91','D-4/8/91,D-9/8/91')\n",
    "for i in df[0]:\n",
    "    temp = temp.replace(i, str(df[0][df[0] == i].index[0]))\n",
    "\n",
    "temp = temp.split(',')\n",
    "\n",
    "c9 = []\n",
    "for i in range(len(temp)):\n",
    "    c9.append((temp[i].split('to')))\n",
    "\n",
    "c9 = [list(map(int, x)) for x in c9]\n",
    "\n",
    "class9 = pd.DataFrame()\n",
    "\n",
    "for i in range(len(c9)):\n",
    "    class9 = pd.concat([class9, df[c9[i][0]:c9[i][-1]+1]])\n",
    "\n",
    "class9['target'] = [9]*len(class9)"
   ]
  },
  {
   "cell_type": "markdown",
   "metadata": {},
   "source": [
    "### Concatenando todas as classes, separando os dados/rótulos de treino/teste e descartando dados ausente."
   ]
  },
  {
   "cell_type": "code",
   "execution_count": 11,
   "metadata": {},
   "outputs": [],
   "source": [
    "df = pd.concat([class1, class11, class5, class9]).drop(0,1).apply(pd.to_numeric,errors='coerce')\n",
    "DF = df.dropna()"
   ]
  },
  {
   "cell_type": "code",
   "execution_count": 12,
   "metadata": {},
   "outputs": [],
   "source": [
    "x = DF.drop(['target'], axis=1)\n",
    "y = DF['target']\n",
    "from sklearn.model_selection import train_test_split\n",
    "from sklearn import metrics"
   ]
  },
  {
   "cell_type": "markdown",
   "metadata": {},
   "source": []
  },
  {
   "cell_type": "markdown",
   "metadata": {},
   "source": [
    "## Testes preliminares de adequação de modelos"
   ]
  },
  {
   "cell_type": "code",
   "execution_count": 13,
   "metadata": {},
   "outputs": [
    {
     "data": {
      "text/plain": [
       "0.6646666666666668"
      ]
     },
     "execution_count": 13,
     "metadata": {},
     "output_type": "execute_result"
    }
   ],
   "source": [
    "## KNN\n",
    "\n",
    "from sklearn.neighbors import KNeighborsClassifier\n",
    "knn = KNeighborsClassifier(n_neighbors=4)\n",
    "knn_score = []\n",
    "\n",
    "for i in range(100):\n",
    "    x_train, x_test, y_train, y_test = train_test_split(x,y,test_size= 0.2)\n",
    "    knn.fit(x_train,y_train)\n",
    "    knn_predicts = knn.predict(x_test)\n",
    "    knn_score.append(metrics.accuracy_score(y_test,knn_predicts))\n",
    "sum(knn_score)/100"
   ]
  },
  {
   "cell_type": "code",
   "execution_count": 14,
   "metadata": {},
   "outputs": [
    {
     "data": {
      "text/plain": [
       "0.8330666666666668"
      ]
     },
     "execution_count": 14,
     "metadata": {},
     "output_type": "execute_result"
    }
   ],
   "source": [
    "## Regressão logística\n",
    "\n",
    "from sklearn.linear_model import LogisticRegression\n",
    "logreg = LogisticRegression()\n",
    "logreg_score = []\n",
    "\n",
    "for i in range(100):\n",
    "    x_train, x_test, y_train, y_test = train_test_split(x,y,test_size= 0.2)\n",
    "    logreg.fit(x_train,y_train)\n",
    "    logreg_predicts = logreg.predict(x_test)\n",
    "    logreg_score.append(metrics.accuracy_score(y_test,logreg_predicts))\n",
    "sum(logreg_score)/100"
   ]
  },
  {
   "cell_type": "code",
   "execution_count": 15,
   "metadata": {},
   "outputs": [
    {
     "data": {
      "text/plain": [
       "0.4801333333333334"
      ]
     },
     "execution_count": 15,
     "metadata": {},
     "output_type": "execute_result"
    }
   ],
   "source": [
    "## svm\n",
    "\n",
    "from sklearn import svm\n",
    "svm = svm.SVC()\n",
    "svm_score = []\n",
    "\n",
    "for i in range(100):\n",
    "    x_train, x_test, y_train, y_test = train_test_split(x,y,test_size= 0.2)\n",
    "    svm.fit(x_train,y_train)\n",
    "    svm_predicts = svm.predict(x_test)\n",
    "    svm_score.append(metrics.accuracy_score(y_test,logreg_predicts))\n",
    "sum(svm_score)/100"
   ]
  },
  {
   "cell_type": "markdown",
   "metadata": {},
   "source": [
    "#### Comentários:\n",
    "\n",
    "A regressão logística demonstrou um melhor score em vários testes que variavam o fatiamento das amostras. Tal score ainda pode estar subestimado, métodos de redução de dimensionalidade podem ajudar a deixar a variância das 38 features mais \"comportada\" e melhorar a performance."
   ]
  },
  {
   "cell_type": "markdown",
   "metadata": {},
   "source": []
  },
  {
   "cell_type": "markdown",
   "metadata": {},
   "source": [
    "## Principal Component Analysis - PCA:"
   ]
  },
  {
   "cell_type": "code",
   "execution_count": 16,
   "metadata": {},
   "outputs": [],
   "source": [
    "## Antes de tudo é necessário \"normalizar\" a variância de todos os atributos\n",
    "\n",
    "from sklearn.preprocessing import StandardScaler\n",
    "scaler = StandardScaler()\n",
    "scaler.fit(DF)\n",
    "scaled_data = scaler.transform(DF)"
   ]
  },
  {
   "cell_type": "code",
   "execution_count": 17,
   "metadata": {},
   "outputs": [],
   "source": [
    "from sklearn.decomposition import PCA\n",
    "pca = PCA(n_components=38)\n",
    "pca.fit(scaled_data)\n",
    "x_pca = pca.transform(scaled_data)"
   ]
  },
  {
   "cell_type": "code",
   "execution_count": 18,
   "metadata": {},
   "outputs": [
    {
     "data": {
      "text/plain": [
       "<matplotlib.axes._subplots.AxesSubplot at 0x22821017780>"
      ]
     },
     "execution_count": 18,
     "metadata": {},
     "output_type": "execute_result"
    },
    {
     "data": {
      "image/png": "[encoded data removed]",
      "text/plain": [
       "<Figure size 842.4x595.44 with 1 Axes>"
      ]
     },
     "metadata": {},
     "output_type": "display_data"
    }
   ],
   "source": [
    "sns.set(style=\"darkgrid\")\n",
    "fig, ax = plt.subplots(figsize=(11.7, 8.27))\n",
    "sns.scatterplot(x=x_pca[:,0],y=x_pca[:,1],hue=DF['target'],palette=\"plasma\",ax=ax)"
   ]
  },
  {
   "cell_type": "code",
   "execution_count": 19,
   "metadata": {},
   "outputs": [
    {
     "data": {
      "image/png": "[encoded data removed]",
      "text/plain": [
       "<Figure size 432x288 with 1 Axes>"
      ]
     },
     "metadata": {},
     "output_type": "display_data"
    }
   ],
   "source": [
    "## Variância em função do número do componente principal\n",
    "\n",
    "plt.plot(np.cumsum(pca.explained_variance_ratio_))\n",
    "plt.xlabel('# componentes')\n",
    "plt.ylabel('variancia cumulativa');"
   ]
  },
  {
   "cell_type": "code",
   "execution_count": 20,
   "metadata": {},
   "outputs": [
    {
     "data": {
      "text/plain": [
       "0.9028188740287139"
      ]
     },
     "execution_count": 20,
     "metadata": {},
     "output_type": "execute_result"
    }
   ],
   "source": [
    "## Variância explicada pelos 15 primeiros componentes\n",
    "\n",
    "np.cumsum(pca.explained_variance_ratio_)[14]"
   ]
  },
  {
   "cell_type": "markdown",
   "metadata": {},
   "source": [
    "## Reavaliação dos modelos"
   ]
  },
  {
   "cell_type": "code",
   "execution_count": null,
   "metadata": {},
   "outputs": [],
   "source": []
  },
  {
   "cell_type": "code",
   "execution_count": 21,
   "metadata": {},
   "outputs": [],
   "source": [
    "x=x_pca\n",
    "y = DF['target']"
   ]
  },
  {
   "cell_type": "code",
   "execution_count": 22,
   "metadata": {},
   "outputs": [
    {
     "data": {
      "text/plain": [
       "0.8490666666666665"
      ]
     },
     "execution_count": 22,
     "metadata": {},
     "output_type": "execute_result"
    }
   ],
   "source": [
    "## KNN\n",
    "\n",
    "from sklearn.neighbors import KNeighborsClassifier\n",
    "knn = KNeighborsClassifier(n_neighbors=11)\n",
    "knn_score = []\n",
    "\n",
    "for i in range(100):\n",
    "    x_train, x_test, y_train, y_test = train_test_split(x,y,test_size= 0.2)\n",
    "    knn.fit(x_train,y_train)\n",
    "    knn_predicts = knn.predict(x_test)\n",
    "    knn_score.append(metrics.accuracy_score(y_test,knn_predicts))\n",
    "sum(knn_score)/100"
   ]
  },
  {
   "cell_type": "code",
   "execution_count": 23,
   "metadata": {},
   "outputs": [
    {
     "data": {
      "text/plain": [
       "0.9425333333333334"
      ]
     },
     "execution_count": 23,
     "metadata": {},
     "output_type": "execute_result"
    }
   ],
   "source": [
    "## Regressão logística \n",
    "\n",
    "from sklearn.linear_model import LogisticRegression\n",
    "logreg = LogisticRegression()\n",
    "logreg_score = []\n",
    "\n",
    "for i in range(100):\n",
    "    x_train, x_test, y_train, y_test = train_test_split(x,y,test_size= 0.2)\n",
    "    logreg.fit(x_train,y_train)\n",
    "    logreg_predicts = logreg.predict(x_test)\n",
    "    logreg_score.append(metrics.accuracy_score(y_test,logreg_predicts))\n",
    "sum(logreg_score)/100"
   ]
  },
  {
   "cell_type": "code",
   "execution_count": 24,
   "metadata": {},
   "outputs": [
    {
     "data": {
      "text/plain": [
       "0.4313333333333332"
      ]
     },
     "execution_count": 24,
     "metadata": {},
     "output_type": "execute_result"
    }
   ],
   "source": [
    "## svm\n",
    "\n",
    "from sklearn import svm\n",
    "svm = svm.SVC()\n",
    "svm_score = []\n",
    "\n",
    "for i in range(100):\n",
    "    x_train, x_test, y_train, y_test = train_test_split(x,y,test_size= 0.2)\n",
    "    svm.fit(x_train,y_train)\n",
    "    svm_predicts = svm.predict(x_test)\n",
    "    svm_score.append(metrics.accuracy_score(y_test,logreg_predicts))\n",
    "sum(svm_score)/100"
   ]
  },
  {
   "cell_type": "markdown",
   "metadata": {},
   "source": []
  },
  {
   "cell_type": "markdown",
   "metadata": {},
   "source": [
    "### Conclusões:\n",
    "- A análise de componentes principais aumentou significativamente a performace dos algoritmos de KNN e regressão logistica, sendo este o de melhor resultado.\n",
    "\n",
    "\n",
    "- Também demonstrou que os quinze primeiros compenentes principais são capazes de explicar mais de 90% da variabilidade do sistema, sugerindo que vários atributos podem não ser tão relevantes. \n",
    "\n",
    "\n",
    "- o Scatter plot demosntra que o PCA conseguiu promover uma separação razoável das classes em seus dois primeiro componentes, mas ainda há superposição de alguns clusters, principalmente as classes 5 e 9.\n",
    "\n",
    "### Para trabalhos futuros\n",
    "- Aplicar engenharia de atributos para descartar features irrelevantes. Isso poderia evitar overfiting, descomplicar as análises e aumentar a quantidade de exemplos de treino, pois vários deles foram descartados pela função \".dropna()\" por conterem valors \"NaN\" em atributos potencialmente descartáveis.\n",
    "\n",
    "\n",
    "- Aplicar Linear Discriminant Analysis (LDA) ao invés de PCA pode ter uma porformace melhor para separar os clusters das classes e culminar em melhor performance para os algoritmos."
   ]
  }
 ],
 "metadata": {
  "kernelspec": {
   "display_name": "Python 3",
   "language": "python",
   "name": "python3"
  },
  "language_info": {
   "codemirror_mode": {
    "name": "ipython",
    "version": 3
   },
   "file_extension": ".py",
   "mimetype": "text/x-python",
   "name": "python",
   "nbconvert_exporter": "python",
   "pygments_lexer": "ipython3",
   "version": "3.7.1"
  }
 },
 "nbformat": 4,
 "nbformat_minor": 2
}
